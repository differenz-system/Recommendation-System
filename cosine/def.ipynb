{
 "cells": [
  {
   "cell_type": "markdown",
   "id": "d9e8e9c4-5c04-45ed-98ba-5d034113f4b3",
   "metadata": {},
   "source": [
    "# Import  Libraries"
   ]
  },
  {
   "cell_type": "code",
   "execution_count": 27,
   "id": "4e2ad1fa-134c-4c01-a16c-76390474c663",
   "metadata": {},
   "outputs": [],
   "source": [
    "from datetime import datetime, timedelta\n",
    "import pandas as pd\n",
    "import matplotlib.pyplot as plt\n",
    "import numpy as np\n",
    "import re\n",
    "from sklearn.feature_extraction.text import TfidfVectorizer, CountVectorizer ,HashingVectorizer\n",
    "from sklearn.metrics.pairwise import linear_kernel, cosine_similarity, euclidean_distances"
   ]
  },
  {
   "cell_type": "markdown",
   "id": "df404590-250c-4c0c-9ea0-ddbc2640403b",
   "metadata": {},
   "source": [
    "# Data cleaning"
   ]
  },
  {
   "cell_type": "code",
   "execution_count": 28,
   "id": "60beb0db-ac55-481f-ae51-8a2d2d0e91d1",
   "metadata": {},
   "outputs": [],
   "source": [
    "def user_data_cleaner(x):\n",
    "    if isinstance(x, str):\n",
    "        return str.lower(x.replace(\"@@@\", \" \"))\n",
    "    else:\n",
    "        return ''"
   ]
  },
  {
   "cell_type": "code",
   "execution_count": 29,
   "id": "73b51e52",
   "metadata": {},
   "outputs": [],
   "source": [
    "def product_data_cleaner(x):\n",
    "    if isinstance(x, str):\n",
    "        x = x.lower().replace('nan', '').replace(';', ',').replace('&amp', '')\n",
    "        return x\n",
    "    else:\n",
    "        return ''\n",
    "\n",
    "def product_data_cleaner2(x):\n",
    "    if isinstance(x, list):\n",
    "        return [i.lower().replace(\" \", \"\") for i in x]\n",
    "    elif isinstance(x, str):\n",
    "        return x.lower().replace(\" \", \"\")\n",
    "    else:\n",
    "        return ''"
   ]
  },
  {
   "cell_type": "raw",
   "id": "e8baba80",
   "metadata": {},
   "source": [
    "----------------------------- For combining imp columns data in one column named soup -----------------------------"
   ]
  },
  {
   "cell_type": "code",
   "execution_count": 30,
   "id": "b1b7b5db",
   "metadata": {},
   "outputs": [],
   "source": [
    "def couple(x):\n",
    "    return ' '.join(x['categories'])+ ' ' + ' '.join(x['short_description'])+ ',' + ''.join(x['product_description'])"
   ]
  },
  {
   "cell_type": "markdown",
   "id": "44a7f696-3a31-411c-bf1e-364f2c762811",
   "metadata": {},
   "source": [
    "# Loading Data"
   ]
  },
  {
   "cell_type": "code",
   "execution_count": 31,
   "id": "4c1605b1-97b2-4284-bb57-2c9ca596db75",
   "metadata": {},
   "outputs": [],
   "source": [
    "def userdf(sitename):\n",
    "    \n",
    "    #User data loading\n",
    "    path=sitename +'/userdata.csv'\n",
    "    user_df=pd.read_csv(path)\n",
    "    \n",
    "    \n",
    "    #User data cleaning\n",
    "    for col in ['cart_history', 'user_purchase_history', 'user_viewed_history']:\n",
    "        user_df[col] = user_df[col].apply(user_data_cleaner) \n",
    "        \n",
    "    # Cart History\n",
    "    user_cart_df=user_df.copy()\n",
    "    user_cart_df.drop(['user_purchase_history','user_viewed_history'],axis=1,inplace=True)\n",
    "    user_cart_df.set_index(['user_id'],inplace=True)\n",
    "    \n",
    "    # Purchase History\n",
    "    user_purchased_df=user_df.copy()\n",
    "    user_purchased_df.drop(['cart_history','user_viewed_history'],axis=1,inplace=True)\n",
    "    user_purchased_df.set_index(['user_id'],inplace=True)\n",
    "     \n",
    "    # View History\n",
    "    user_view_df=user_df.copy()\n",
    "    user_view_df.drop(['cart_history','user_purchase_history'],axis=1,inplace=True)\n",
    "    user_view_df.set_index(['user_id'],inplace=True)\n",
    "    \n",
    "    return user_cart_df,user_purchased_df,user_view_df"
   ]
  },
  {
   "cell_type": "code",
   "execution_count": 32,
   "id": "3315b6eb-ab3e-437b-9ef7-1d623f08e446",
   "metadata": {},
   "outputs": [],
   "source": [
    "def product_df(sitename):\n",
    "    path= sitename + '/productdata.csv'\n",
    "    df=pd.read_csv(path)\n",
    "    \n",
    "    \n",
    "    # Product Data cleaning\n",
    "    df.rename({\"id\":\"product_id\"},axis=1, inplace=True)\n",
    "    df.drop_duplicates(subset='product_id',inplace=True)\n",
    "    \n",
    "    df['product_rating'] = df['product_rating'].fillna(0)\n",
    "    df['product_description'] = df['product_description'].fillna('None')\n",
    "    df['selling_price'] = df['selling_price'].fillna(0)\n",
    "    df = df.sort_values(by='product_id').reset_index(drop=True)\n",
    "\n",
    "    columns_to_clean = ['product_parent_cat', 'product_cat_name', 'short_description']\n",
    "    for column in columns_to_clean:\n",
    "        df[column] = df[column].apply(product_data_cleaner)\n",
    "        df[column] = df[column].apply(product_data_cleaner2)\n",
    "\n",
    "    #--------------------------------- combing the category and sub category ---------------------------------\n",
    "    df.drop_duplicates(subset='product_id',inplace=True)\n",
    "    category_columns = ['product_cat_name', 'product_parent_cat']\n",
    "    df['categories'] = df[category_columns].apply(lambda row: ','.join(filter(None, row)), axis=1)\n",
    "    \n",
    "    \n",
    "    \n",
    "    def remove_whitespace(text):\n",
    "        return text.strip()\n",
    "\n",
    "    def get_list(text):\n",
    "        return list(map(remove_whitespace, re.split('&|,|\\*|\\n', text)))\n",
    "\n",
    "    # Apply the functions to the 'categories' and 'type' columns\n",
    "    df['categories'] = df['categories'].apply(get_list)\n",
    "    df['short_description'] = df['short_description'].apply(get_list)\n",
    "    # collection of imp data in one column for similarity algorithm\n",
    "    df['soup'] = df.apply(couple, axis=1)\n",
    "    \n",
    "    df['sale_percentage'] = 100 - (df['selling_price'] / df['regular_price']) * 100\n",
    "    df['sale_percentage'] = df['sale_percentage'].replace({np.inf: 0, -np.inf: 0}).fillna(0)\n",
    "\n",
    "    return df"
   ]
  },
  {
   "cell_type": "code",
   "execution_count": null,
   "id": "4855ff44",
   "metadata": {},
   "outputs": [],
   "source": []
  },
  {
   "cell_type": "markdown",
   "id": "0643d4f8-1a93-41b9-b670-c42bbaf7ef67",
   "metadata": {},
   "source": [
    "# Cosine Similarity"
   ]
  },
  {
   "cell_type": "raw",
   "id": "20e1bffe",
   "metadata": {},
   "source": [
    "Now the column named soup in df will be used for cosine similarity and on that the recommendation will be done"
   ]
  },
  {
   "cell_type": "code",
   "execution_count": 33,
   "id": "c9084f87-703d-4ee6-a38c-7a81bfc9e773",
   "metadata": {},
   "outputs": [],
   "source": [
    "def similarity(sitename,df):\n",
    "#     df=product_df(sitename)\n",
    "    count = TfidfVectorizer(stop_words='english')\n",
    "    count_matrix = count.fit_transform(df['soup'])\n",
    "    cosine_sim = cosine_similarity(count_matrix, count_matrix)\n",
    "    return cosine_sim"
   ]
  },
  {
   "cell_type": "markdown",
   "id": "07109a86-181d-449e-9873-8204ae733218",
   "metadata": {},
   "source": [
    "# Product similarity"
   ]
  },
  {
   "cell_type": "raw",
   "id": "d4bd79fb",
   "metadata": {},
   "source": [
    "product_similarity is the main function that executes all the functions mentioned above. To run it, you need to provide the `product_id` and the `sitename`, where the CSV file is. (Don't provide full path)\n",
    "\n",
    "In return, you will receive the `product_id`. Using these IDs, you can obtain the names of the products by calling another Python function named `reco_name`. To use this function, you need to provide the `product_id`, `recommended_products IDs`, and the path (`sitename`). Note that this function is specifically developed for checking accuracy.\""
   ]
  },
  {
   "cell_type": "code",
   "execution_count": 34,
   "id": "7512cfbb-83f9-4136-8204-8e587f0c4a61",
   "metadata": {},
   "outputs": [],
   "source": [
    "def product_similarity(p_id,sitename):\n",
    "    \n",
    "    df=product_df(sitename)\n",
    "#     print(df.columns)\n",
    "    cosine_sim=similarity(sitename,df)\n",
    "    \n",
    "    indices = pd.Series(df.index, index=df['product_id'])\n",
    "    idx = indices[p_id]\n",
    "\n",
    "\n",
    "    sim_scores = list(enumerate(cosine_sim[idx]))\n",
    "    sim_scores = sorted(sim_scores, key=lambda x: x[1], reverse=True)\n",
    "    sim_scores = sim_scores[1:11]\n",
    "\n",
    "    product_indices = [i[0] for i in sim_scores]\n",
    "\n",
    "    new_rec = df['product_id'].iloc[product_indices]\n",
    "    recommend=pd.DataFrame({'New Recommendor':new_rec})\n",
    "    new_rec2=new_rec.values.tolist()\n",
    "    \n",
    "    return new_rec2"
   ]
  },
  {
   "cell_type": "code",
   "execution_count": 35,
   "id": "204b552d-dbfb-40c5-856b-b585adf55d2d",
   "metadata": {},
   "outputs": [],
   "source": [
    "def reco_name(product_id, recommended_products,sitename):\n",
    "    df = product_df(sitename)\n",
    "    reco_name = []\n",
    "    for i in recommended_products:\n",
    "        idx = df[(df[\"product_id\"] == i)].index.values\n",
    "        for j in idx:\n",
    "            name1 = df[\"product_name\"].iloc[j]\n",
    "            reco_name.append(name1)\n",
    "    idx = df[(df['product_id'] == product_id)].index.values\n",
    "    pro_name = df['product_name'].iloc[idx].values.tolist()\n",
    "    return reco_name,pro_name"
   ]
  },
  {
   "cell_type": "raw",
   "id": "ff2f5522",
   "metadata": {},
   "source": [
    "--------------------------------------------- Product Similarity ---------------------------------------------"
   ]
  },
  {
   "cell_type": "code",
   "execution_count": 53,
   "id": "ca550cc3",
   "metadata": {},
   "outputs": [
    {
     "name": "stdout",
     "output_type": "stream",
     "text": [
      "[99013, 105976, 106993, 103905, 109045, 111620, 98823, 113472, 117231, 111497]\n"
     ]
    },
    {
     "data": {
      "text/plain": [
       "(['Spicy Chipotle Mayonnaise Dip',\n",
       "  'Tikka Mayonnaise Dip',\n",
       "  'Thousand Island Eggless Dressing',\n",
       "  'Minty Mayonnaise Dip',\n",
       "  'Arrabbiata Pasta Sauce With Black Olives',\n",
       "  'Whole Grain Mustard Sauce',\n",
       "  'Alphonso Mango Conserve With No Added Sugar',\n",
       "  'Momo Hot Sauce',\n",
       "  'Szechwan Hot Sauce',\n",
       "  'Arrabbiata Pasta Sauce With Bell Peppers'],\n",
       " ['Eggless Mayonnaise Dip'])"
      ]
     },
     "execution_count": 53,
     "metadata": {},
     "output_type": "execute_result"
    }
   ],
   "source": [
    "product_id = 96166\n",
    "user = 'dataset/site1'\n",
    "\n",
    "recommended_products = product_similarity(product_id, user)\n",
    "print(recommended_products)\n",
    "reco_name(product_id, recommended_products, user)"
   ]
  },
  {
   "cell_type": "code",
   "execution_count": 54,
   "id": "7a59d6a2",
   "metadata": {},
   "outputs": [
    {
     "name": "stdout",
     "output_type": "stream",
     "text": [
      "[99013, 105976, 96166, 111620, 103905, 98823, 109045, 113472, 98009, 115286]\n"
     ]
    },
    {
     "data": {
      "text/plain": [
       "(['Spicy Chipotle Mayonnaise Dip',\n",
       "  'Tikka Mayonnaise Dip',\n",
       "  'Eggless Mayonnaise Dip',\n",
       "  'Whole Grain Mustard Sauce',\n",
       "  'Minty Mayonnaise Dip',\n",
       "  'Alphonso Mango Conserve With No Added Sugar',\n",
       "  'Arrabbiata Pasta Sauce With Black Olives',\n",
       "  'Momo Hot Sauce',\n",
       "  'Jamun Conserve With No Added Sugar',\n",
       "  'Orange Marmalade With No Added Sugar'],\n",
       " ['Thousand Island Eggless Dressing'])"
      ]
     },
     "execution_count": 54,
     "metadata": {},
     "output_type": "execute_result"
    }
   ],
   "source": [
    "product_id = 106993\n",
    "user = 'dataset/site1'\n",
    "\n",
    "recommended_products = product_similarity(product_id, user)\n",
    "print(recommended_products)\n",
    "reco_name(product_id, recommended_products, user)"
   ]
  },
  {
   "cell_type": "code",
   "execution_count": null,
   "id": "af5b4f1b",
   "metadata": {},
   "outputs": [],
   "source": []
  },
  {
   "cell_type": "code",
   "execution_count": null,
   "id": "ce1a4f29",
   "metadata": {},
   "outputs": [],
   "source": []
  },
  {
   "cell_type": "markdown",
   "id": "e92a909d-47b3-4f16-aa3f-2fbaa1efda8d",
   "metadata": {},
   "source": [
    "# Popular Products"
   ]
  },
  {
   "cell_type": "raw",
   "id": "8262d89f",
   "metadata": {},
   "source": [
    "The popularity of a product is determined based on ratings. Since we don't have actual rating data, I have added ratings randomly."
   ]
  },
  {
   "cell_type": "code",
   "execution_count": 38,
   "id": "0921a344-439f-401c-870a-dedf5b2c2c40",
   "metadata": {},
   "outputs": [],
   "source": [
    "import random\n",
    "def popular_products(sitename):\n",
    "    df2=product_df(sitename)\n",
    "    \n",
    "    \n",
    "    #------------\n",
    "    for i in range (0,len(df2)):\n",
    "        num=random.randint(0,5)\n",
    "        df2.at[i,'product_rating']=num\n",
    "    #------------\n",
    "    \n",
    "    \n",
    "    popular_pro=df2.sort_values(by='product_rating',ascending=False)\n",
    "    idx=popular_pro.index.values\n",
    "    pids=[]\n",
    "    for i in idx:\n",
    "        pid=df2['product_id'].loc[i]\n",
    "        pids.append(pid)\n",
    "    return pids[0:5]"
   ]
  },
  {
   "cell_type": "code",
   "execution_count": 39,
   "id": "5e119290",
   "metadata": {},
   "outputs": [
    {
     "data": {
      "text/plain": [
       "[108374, 104429, 104395, 99341, 112396]"
      ]
     },
     "execution_count": 39,
     "metadata": {},
     "output_type": "execute_result"
    }
   ],
   "source": [
    "popular_products('dataset/site1')"
   ]
  },
  {
   "cell_type": "code",
   "execution_count": null,
   "id": "6f9de9d8",
   "metadata": {},
   "outputs": [],
   "source": []
  },
  {
   "cell_type": "markdown",
   "id": "105b951f",
   "metadata": {},
   "source": [
    "# On Sale Products"
   ]
  },
  {
   "cell_type": "raw",
   "id": "814084df",
   "metadata": {},
   "source": [
    "On-sale products are recommended based on the sale percentage, which is determined using the selling price and regular price."
   ]
  },
  {
   "cell_type": "code",
   "execution_count": 40,
   "id": "bba25558",
   "metadata": {},
   "outputs": [],
   "source": [
    "def on_sale(sitename):\n",
    "    df=product_df(sitename)\n",
    "    for i in range (0,len(df)):\n",
    "        market_price=df['regular_price'].iloc[i]\n",
    "        sale_price=df['selling_price'].iloc[i]\n",
    "        if sale_price==0.0:\n",
    "            df.at[i,'sale_percentage']=0\n",
    "        else:\n",
    "            percent_off= 100-(sale_price/market_price)*100\n",
    "            df.at[i,'sale_percentage']=percent_off\n",
    "    df=df.sort_values(by='sale_percentage',ascending=False)\n",
    "    df.reset_index(drop=True,inplace=True)\n",
    "    idx=df.index.values\n",
    "    pids=[]\n",
    "    for i in idx:\n",
    "        pid=df['product_id'].iloc[i]\n",
    "        pids.append(pid)\n",
    "    \n",
    "    return pids[0:5],df\n"
   ]
  },
  {
   "cell_type": "code",
   "execution_count": 41,
   "id": "e704951c",
   "metadata": {},
   "outputs": [
    {
     "data": {
      "text/plain": [
       "[111612, 107997, 108351, 105498, 100180]"
      ]
     },
     "execution_count": 41,
     "metadata": {},
     "output_type": "execute_result"
    }
   ],
   "source": [
    "df=on_sale('dataset/site1')\n",
    "df[0]"
   ]
  },
  {
   "cell_type": "code",
   "execution_count": 42,
   "id": "c652fb2b",
   "metadata": {},
   "outputs": [],
   "source": [
    "def check_percentage(sitename):\n",
    "    ids=on_sale(sitename)\n",
    "    ids2=ids[0]\n",
    "    df2=ids[1]\n",
    "    s_p=[]\n",
    "    for i in ids2:\n",
    "        sale_percentage = df2[df2[\"product_id\"] == i][\"sale_percentage\"].unique()\n",
    "        s_p.append(sale_percentage)\n",
    "    s_p=[j for i in s_p for j in i]\n",
    "    return s_p"
   ]
  },
  {
   "cell_type": "code",
   "execution_count": 43,
   "id": "70a2a7d4",
   "metadata": {},
   "outputs": [
    {
     "data": {
      "text/plain": [
       "[82.5062656641604, 81.203007518797, 80.98271155595997, 80.49979123173279, 80.0]"
      ]
     },
     "execution_count": 43,
     "metadata": {},
     "output_type": "execute_result"
    }
   ],
   "source": [
    "check_percentage('dataset/site1')"
   ]
  },
  {
   "cell_type": "code",
   "execution_count": null,
   "id": "af1cc975",
   "metadata": {},
   "outputs": [],
   "source": []
  },
  {
   "cell_type": "code",
   "execution_count": null,
   "id": "922f4252",
   "metadata": {},
   "outputs": [],
   "source": []
  },
  {
   "cell_type": "markdown",
   "id": "d144b041-72a2-4ca3-b868-7d79fe457a34",
   "metadata": {},
   "source": [
    "# User Cart"
   ]
  },
  {
   "cell_type": "raw",
   "id": "3a038389",
   "metadata": {},
   "source": [
    "Recommendations based on the products in the user's cart: The product IDs in the carts will go through a loop, and all the similar products to those in the cart will be recommended."
   ]
  },
  {
   "cell_type": "code",
   "execution_count": 44,
   "id": "c403adf3-47b5-4620-85c0-16eda5d88e21",
   "metadata": {},
   "outputs": [],
   "source": [
    "def user_cart_reco(uid,sitename):\n",
    "    \n",
    "    user_df=userdf(sitename)\n",
    "    user_cart=user_df[0]\n",
    "    \n",
    "    defined_user_pid=user_cart.loc[uid]\n",
    "    test = (defined_user_pid['cart_history']).split()\n",
    "    \n",
    "    print(f'Product ids in user cart: {test}')\n",
    "    \n",
    "    defined_user_pids=[int(ids) for segments in defined_user_pid for ids in str(segments).split()]\n",
    "    \n",
    "    result=[]\n",
    "    for p_id in test:\n",
    "\n",
    "        new_rec = product_similarity(int(p_id),sitename)\n",
    "        recom_df = pd.DataFrame({'Recommendation':new_rec})\n",
    "      \n",
    "        recom_df.reset_index(drop=True, inplace=True)\n",
    "        red=recom_df.values.tolist()\n",
    "        result.append(red)\n",
    "        \n",
    "    li=[ k for i in result for j in i for k in j]\n",
    "    \n",
    "    final_result=set(li)\n",
    "        \n",
    "    return final_result\n",
    "\n",
    "# re=user_cart_reco(4,'site1')\n",
    "# re"
   ]
  },
  {
   "cell_type": "raw",
   "id": "47b2348a",
   "metadata": {},
   "source": [
    "------------------------------------- Recommendation based on the User's cart -------------------------------------"
   ]
  },
  {
   "cell_type": "code",
   "execution_count": 45,
   "id": "328326cf",
   "metadata": {
    "scrolled": true
   },
   "outputs": [
    {
     "name": "stdout",
     "output_type": "stream",
     "text": [
      "Product ids in user cart: ['115650', '104865', '96583', '111856', '103815']\n"
     ]
    },
    {
     "data": {
      "text/plain": [
       "{96560,\n",
       " 99158,\n",
       " 99297,\n",
       " 100170,\n",
       " 100572,\n",
       " 100634,\n",
       " 101088,\n",
       " 102600,\n",
       " 103038,\n",
       " 103143,\n",
       " 103815,\n",
       " 104637,\n",
       " 105117,\n",
       " 105418,\n",
       " 105453,\n",
       " 106530,\n",
       " 106622,\n",
       " 107429,\n",
       " 107748,\n",
       " 109270,\n",
       " 109660,\n",
       " 109911,\n",
       " 110001,\n",
       " 110122,\n",
       " 110941,\n",
       " 111113,\n",
       " 111856,\n",
       " 112631,\n",
       " 112660,\n",
       " 112872,\n",
       " 113209,\n",
       " 114260,\n",
       " 114966,\n",
       " 115650,\n",
       " 115677,\n",
       " 116014,\n",
       " 117691,\n",
       " 118424,\n",
       " 118534}"
      ]
     },
     "execution_count": 45,
     "metadata": {},
     "output_type": "execute_result"
    }
   ],
   "source": [
    "customer_id = 4\n",
    "user = 'dataset/site1'\n",
    "user_cart_reco(customer_id, user)"
   ]
  },
  {
   "cell_type": "code",
   "execution_count": null,
   "id": "ac57a775-5ae1-4af7-8551-a8e0ec703326",
   "metadata": {},
   "outputs": [],
   "source": []
  },
  {
   "cell_type": "code",
   "execution_count": null,
   "id": "cb554b76-ca1b-4f83-b6ac-a5d27f0231a3",
   "metadata": {},
   "outputs": [],
   "source": []
  },
  {
   "cell_type": "markdown",
   "id": "c54f1de8-15bb-4c28-964e-67b6ac55a6cc",
   "metadata": {},
   "source": [
    "# User Purchased"
   ]
  },
  {
   "cell_type": "raw",
   "id": "1e071ddd",
   "metadata": {},
   "source": [
    "Recommendations based on the products in the user has purchased: The product IDs in the purchased history will go through a loop, and all the similar products will be recommended."
   ]
  },
  {
   "cell_type": "code",
   "execution_count": 46,
   "id": "a38fffb2-9f4f-476c-a5f1-20cc0fe42ae5",
   "metadata": {},
   "outputs": [],
   "source": [
    "def user_purchase_reco(uid,sitename):\n",
    "    \n",
    "    user_df=userdf(sitename)\n",
    "    user_purchased=user_df[1]\n",
    "    \n",
    "    defined_user_pid=user_purchased.loc[uid]\n",
    "    test = (defined_user_pid['user_purchase_history']).split()\n",
    "    print(f\"User's Purchased product ids: {test}\")\n",
    "    \n",
    "    result=[]\n",
    "    for p_id in test:\n",
    "        \n",
    "        new_rec = product_similarity(int(p_id),sitename)\n",
    "        recom_df = pd.DataFrame({'Recommendation':new_rec})\n",
    "      \n",
    "        recom_df.reset_index(drop=True, inplace=True)\n",
    "        red=recom_df.values.tolist()\n",
    "        result.append(red)\n",
    "        \n",
    "    li=[ k for i in result for j in i for k in j]\n",
    "    \n",
    "    final_result=set(li)\n",
    "        \n",
    "    return list(final_result)\n",
    "\n",
    "# re=user_purchase_reco(3,'site1')\n",
    "# re"
   ]
  },
  {
   "cell_type": "code",
   "execution_count": 47,
   "id": "f4f18c68-59c3-46ce-a02d-f013015dde89",
   "metadata": {},
   "outputs": [],
   "source": [
    "def name(pids,user):\n",
    "    reco_name = []\n",
    "    path = user + '/productdata.csv'\n",
    "    df = pd.read_csv(path)\n",
    "    for i in pids:\n",
    "        idx = df[(df[\"product_id\"] == i)].index.values\n",
    "        for j in idx:\n",
    "            name1 = df[\"product_name\"].iloc[j]\n",
    "            reco_name.append(name1)\n",
    "    return list(set(reco_name))"
   ]
  },
  {
   "cell_type": "raw",
   "id": "335b7149",
   "metadata": {},
   "source": [
    "------------------------------- Recommendation based on the User's Purchased History ------------------------------"
   ]
  },
  {
   "cell_type": "code",
   "execution_count": 48,
   "id": "f006ffc7",
   "metadata": {},
   "outputs": [
    {
     "name": "stdout",
     "output_type": "stream",
     "text": [
      "User's Purchased product ids: ['106391', '118899']\n",
      "[104193, 96650, 98964, 97558, 111383, 112665, 115230, 114462, 97440, 108961, 98597, 105276, 97223, 114013, 102368, 117990, 115046, 102896, 109175, 104185]\n"
     ]
    }
   ],
   "source": [
    "customer_id = 4\n",
    "user = 'dataset/site1'\n",
    "pids = user_purchase_reco(customer_id, user)\n",
    "print(pids)"
   ]
  },
  {
   "cell_type": "code",
   "execution_count": 49,
   "id": "1682bb8e",
   "metadata": {},
   "outputs": [
    {
     "data": {
      "text/plain": [
       "['Whole Red Chilly Pickle',\n",
       " 'Green Stuffed Hot Pepper Pickle',\n",
       " 'Green Chilli Pickle',\n",
       " 'Tender Mango Pickle',\n",
       " 'Ginger Pickle',\n",
       " 'Grated Mango Pickle',\n",
       " 'Pickle - Mango Ginger (Without Garlic)',\n",
       " 'Grandma Mango Pickle',\n",
       " 'Caper Berries Pickle',\n",
       " 'Amla Marmalade',\n",
       " 'Rajasthani Lehsun Chutney',\n",
       " 'Clammy Berry Pickle',\n",
       " 'Amla Spicy Pickle',\n",
       " 'Garlic Ganhiali Pickle',\n",
       " 'Garlic Chutney',\n",
       " 'Fenugreek Pickle',\n",
       " 'Pickle - Kalyana Mango',\n",
       " 'Jackfruit Pickle',\n",
       " 'Green Hot Pepper Pickle',\n",
       " 'Mango Pickle']"
      ]
     },
     "execution_count": 49,
     "metadata": {},
     "output_type": "execute_result"
    }
   ],
   "source": [
    "name(pids,user)"
   ]
  },
  {
   "cell_type": "code",
   "execution_count": null,
   "id": "4da737f2",
   "metadata": {},
   "outputs": [],
   "source": []
  },
  {
   "cell_type": "code",
   "execution_count": null,
   "id": "b488bc74",
   "metadata": {},
   "outputs": [],
   "source": []
  },
  {
   "cell_type": "markdown",
   "id": "deb1e530-14be-4881-86ac-fd77c4887df4",
   "metadata": {},
   "source": [
    "# User Veiw"
   ]
  },
  {
   "cell_type": "raw",
   "id": "f2e843d0",
   "metadata": {},
   "source": [
    "Recommendations based on the products viewed by user: The product IDs will go through a loop, and all the similar products will be recommended."
   ]
  },
  {
   "cell_type": "code",
   "execution_count": 50,
   "id": "2fd87372-1fbc-46bb-9d28-b60a819514cb",
   "metadata": {},
   "outputs": [],
   "source": [
    "def user_view_reco(uid,sitename):\n",
    "    \n",
    "    user_df=userdf(sitename)\n",
    "    user_view=user_df[2]\n",
    "    \n",
    "    defined_user_pid=user_view.loc[uid]\n",
    "    test = (defined_user_pid['user_viewed_history']).split()\n",
    "    print(f\"User's View product ids: {test}\")\n",
    "        \n",
    "    result=[]\n",
    "    for p_id in test:\n",
    "        \n",
    "        new_rec = product_similarity(int(p_id),sitename)\n",
    "        recom_df = pd.DataFrame({'Recommendation':new_rec})\n",
    "      \n",
    "        recom_df.reset_index(drop=True, inplace=True)\n",
    "        red=recom_df.values.tolist()\n",
    "        result.append(red)\n",
    "        \n",
    "    li=[ k for i in result for j in i for k in j]\n",
    "    \n",
    "    final_result=set(li)\n",
    "        \n",
    "    return list(final_result)\n",
    "\n",
    "# re=user_view_reco(3,'site1')\n",
    "# re"
   ]
  },
  {
   "cell_type": "raw",
   "id": "7f897b83",
   "metadata": {},
   "source": [
    "------------------------------------ Recommendation based on the User's View History ------------------------------"
   ]
  },
  {
   "cell_type": "code",
   "execution_count": 51,
   "id": "58bbb8a6",
   "metadata": {
    "scrolled": true
   },
   "outputs": [
    {
     "name": "stdout",
     "output_type": "stream",
     "text": [
      "User's View product ids: ['95819', '95781', '95821', '95852', '95846']\n"
     ]
    },
    {
     "data": {
      "text/plain": [
       "[118272,\n",
       " 108290,\n",
       " 102275,\n",
       " 112516,\n",
       " 118786,\n",
       " 108806,\n",
       " 98697,\n",
       " 98320,\n",
       " 97937,\n",
       " 108179,\n",
       " 107415,\n",
       " 96279,\n",
       " 102170,\n",
       " 100769,\n",
       " 115494,\n",
       " 105647,\n",
       " 110771,\n",
       " 116154,\n",
       " 118332,\n",
       " 103999,\n",
       " 103744,\n",
       " 109636,\n",
       " 98116,\n",
       " 95942,\n",
       " 100810,\n",
       " 105546,\n",
       " 110540,\n",
       " 118094,\n",
       " 109008,\n",
       " 118227,\n",
       " 101461,\n",
       " 105174,\n",
       " 102614,\n",
       " 116823,\n",
       " 115163,\n",
       " 112987,\n",
       " 107102,\n",
       " 119135,\n",
       " 101983,\n",
       " 107107,\n",
       " 113252,\n",
       " 102371,\n",
       " 109927,\n",
       " 115177,\n",
       " 106858,\n",
       " 108147,\n",
       " 96887,\n",
       " 110335]"
      ]
     },
     "execution_count": 51,
     "metadata": {},
     "output_type": "execute_result"
    }
   ],
   "source": [
    "customer_id = 4\n",
    "user = 'dataset/site1'\n",
    "view_pids = user_view_reco(customer_id, user)\n",
    "view_pids"
   ]
  },
  {
   "cell_type": "code",
   "execution_count": 52,
   "id": "4d5b08d6",
   "metadata": {
    "scrolled": true
   },
   "outputs": [
    {
     "data": {
      "text/plain": [
       "['Nourishing Face Wash',\n",
       " 'Color Naturals Creme Riche Ultra Hair Color - Raspberry Red',\n",
       " 'Rose & Honey Facial Kit - Honey Lust',\n",
       " 'Hair Oil - Amla',\n",
       " 'Shower Gel - Soft & Fresh',\n",
       " 'Deodorant Body Spray - Magnetism for Men',\n",
       " 'Purple Body Spray',\n",
       " 'Homme Gold Body Spray',\n",
       " 'Color Naturals Creme Riche Sachet',\n",
       " 'Vaporisateur Natural Spray - Hot Red Box',\n",
       " 'Code Vaporisateur Natural Spray for Men',\n",
       " 'Hand Wash - Pure & Gentle',\n",
       " 'Face Wash - Oil Clear Glow',\n",
       " 'Multani Mitti Face Pack Powder',\n",
       " 'Face Wash Oily Skin & Face Scrub De-Tan',\n",
       " 'Perfume Body Spray - Storm',\n",
       " 'Pure & Gentle Bathing Bar',\n",
       " 'Bodywash Moisturising 98% Pure Glycerine',\n",
       " 'Classic All Day Cream Intensive Care and Protection',\n",
       " 'Beauty Moisture Face Wash',\n",
       " 'Deodorant - Storm',\n",
       " 'Neemwash Neem & Clove Ultra-Purifying Face Wash With Active Neem Slices',\n",
       " 'Face Wash - Fresh Renewal',\n",
       " 'Classic Deodorant Spray for Men',\n",
       " 'Palette Intensive Colour Cream Long Lasting Intensity 5-68 Medium Chestnut',\n",
       " 'Perfume - Ultra Sensual',\n",
       " 'Soft & Fresh Soap Bar',\n",
       " 'Perfume - Forest Spice',\n",
       " 'Power White Anti-Dark Cells Fairness Face Wash',\n",
       " 'Palette Intensive Colour Cream Long Lasting Intensity 9-0 Extra Light Blonde',\n",
       " 'Color Naturals Mini - Shade 3.16, Burgundy',\n",
       " 'Coffee Energizing Face Wash',\n",
       " 'Razor - Sport 2 Long Handle',\n",
       " 'Acne Control Face Wash - Sulphate Free',\n",
       " '6-In-1 Face Wash - Sulphate Free',\n",
       " 'Hair Serum - Anti Danduruff',\n",
       " 'Razor - Sport 3 Triple Blade',\n",
       " 'Moisturise Lotion - Body Cocoon',\n",
       " 'De Tan Face Pack',\n",
       " \"Color Naturals Creme Riche Sachet - Shade 5.32, Taapsee's Caramel Brown\",\n",
       " 'Vaporisateur Natural Spray - Cold Blue Box',\n",
       " 'Sport Deo Spray - Fresh, for Women',\n",
       " 'Almond Oil B P',\n",
       " 'Color Naturals Creme Riche Ultra Hair Color - Plum Red',\n",
       " 'Vitamin E Face Pack',\n",
       " 'Shanti - Badam Amla Hair Oil',\n",
       " 'Body Wash - Oil Clear & Glow',\n",
       " 'Color Naturals Mini - Shade 4, Brown']"
      ]
     },
     "execution_count": 52,
     "metadata": {},
     "output_type": "execute_result"
    }
   ],
   "source": [
    "name(view_pids,user)"
   ]
  },
  {
   "cell_type": "code",
   "execution_count": null,
   "id": "3d327b37",
   "metadata": {},
   "outputs": [],
   "source": []
  },
  {
   "cell_type": "code",
   "execution_count": null,
   "id": "c9672e05",
   "metadata": {},
   "outputs": [],
   "source": []
  },
  {
   "cell_type": "code",
   "execution_count": null,
   "id": "784063d9",
   "metadata": {},
   "outputs": [],
   "source": []
  },
  {
   "cell_type": "code",
   "execution_count": null,
   "id": "adf18370",
   "metadata": {},
   "outputs": [],
   "source": []
  },
  {
   "cell_type": "code",
   "execution_count": null,
   "id": "b6559ca3",
   "metadata": {},
   "outputs": [],
   "source": []
  },
  {
   "cell_type": "code",
   "execution_count": null,
   "id": "d102a632",
   "metadata": {},
   "outputs": [],
   "source": []
  },
  {
   "cell_type": "code",
   "execution_count": null,
   "id": "cca7c292",
   "metadata": {},
   "outputs": [],
   "source": []
  }
 ],
 "metadata": {
  "kernelspec": {
   "display_name": "Python 3 (ipykernel)",
   "language": "python",
   "name": "python3"
  },
  "language_info": {
   "codemirror_mode": {
    "name": "ipython",
    "version": 3
   },
   "file_extension": ".py",
   "mimetype": "text/x-python",
   "name": "python",
   "nbconvert_exporter": "python",
   "pygments_lexer": "ipython3",
   "version": "3.9.13"
  }
 },
 "nbformat": 4,
 "nbformat_minor": 5
}
